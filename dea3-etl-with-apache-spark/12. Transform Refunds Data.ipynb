{
 "cells": [
  {
   "cell_type": "code",
   "execution_count": 0,
   "metadata": {
    "application/vnd.databricks.v1+cell": {
     "cellMetadata": {
      "byteLimit": 2048000,
      "rowLimit": 10000
     },
     "inputWidgets": {},
     "nuid": "132e6622-5f72-4fec-8b8f-6857b3d0322f",
     "showTitle": false,
     "tableResultSettingsMap": {},
     "title": ""
    }
   },
   "outputs": [],
   "source": [
    "select \n",
    "  refund_id,\n",
    "  payment_id,\n",
    "  refund_timestamp,\n",
    "  refund_amount,\n",
    "  refund_reason\n",
    "from hive_metastore.bronze.refunds;"
   ]
  },
  {
   "cell_type": "code",
   "execution_count": 0,
   "metadata": {
    "application/vnd.databricks.v1+cell": {
     "cellMetadata": {
      "byteLimit": 2048000,
      "rowLimit": 10000
     },
     "inputWidgets": {},
     "nuid": "dfcae7f1-112c-44d3-a075-b050ffeb1372",
     "showTitle": false,
     "tableResultSettingsMap": {
      "0": {
       "dataGridStateBlob": "{\"version\":1,\"tableState\":{\"columnPinning\":{\"left\":[\"#row_number#\"],\"right\":[]},\"columnSizing\":{},\"columnVisibility\":{}},\"settings\":{\"columns\":{}},\"syncTimestamp\":1756086417689}",
       "filterBlob": null,
       "queryPlanFiltersBlob": null,
       "tableResultIndex": 0
      }
     },
     "title": ""
    }
   },
   "outputs": [],
   "source": [
    "select \n",
    "  refund_id,\n",
    "  payment_id,\n",
    "  refund_timestamp,\n",
    "  refund_amount,\n",
    "  split(refund_reason, ':')[0] as refund_reason,\n",
    "  split_part(refund_reason, ':', 2) as refund_source\n",
    "from hive_metastore.bronze.refunds;"
   ]
  },
  {
   "cell_type": "code",
   "execution_count": 0,
   "metadata": {
    "application/vnd.databricks.v1+cell": {
     "cellMetadata": {
      "byteLimit": 2048000,
      "rowLimit": 10000
     },
     "inputWidgets": {},
     "nuid": "594b4c2f-5712-4086-90a6-6e4c42805162",
     "showTitle": false,
     "tableResultSettingsMap": {
      "0": {
       "dataGridStateBlob": "{\"version\":1,\"tableState\":{\"columnPinning\":{\"left\":[\"#row_number#\"],\"right\":[]},\"columnSizing\":{},\"columnVisibility\":{}},\"settings\":{\"columns\":{}},\"syncTimestamp\":1756087317296}",
       "filterBlob": null,
       "queryPlanFiltersBlob": null,
       "tableResultIndex": 0
      }
     },
     "title": ""
    }
   },
   "outputs": [],
   "source": [
    "select \n",
    "  refund_id,\n",
    "  payment_id,\n",
    "  refund_timestamp,\n",
    "  refund_amount,\n",
    "  regexp_extract(refund_reason, '^([a-zA-z ]+)', 1) refund_reason,\n",
    "  regexp_extract(refund_reason, '([a-zA-z ]+)$', 1) refund_source\n",
    "from hive_metastore.bronze.refunds;"
   ]
  },
  {
   "cell_type": "code",
   "execution_count": 0,
   "metadata": {
    "application/vnd.databricks.v1+cell": {
     "cellMetadata": {
      "byteLimit": 2048000,
      "rowLimit": 10000
     },
     "inputWidgets": {},
     "nuid": "0ca8c959-8e16-45ec-b128-43524f40d066",
     "showTitle": false,
     "tableResultSettingsMap": {},
     "title": ""
    }
   },
   "outputs": [],
   "source": [
    "select \n",
    "  refund_id,\n",
    "  payment_id,\n",
    "  cast(date_format(refund_timestamp, 'yyyy-MM-dd') as date) as refund_date,\n",
    "  date_format(refund_timestamp, 'HH:mm:ss') as refund_time,\n",
    "  refund_amount,\n",
    "  split(refund_reason, ':')[0] as refund_reason,\n",
    "  split_part(refund_reason, ':', 2) as refund_source\n",
    "from hive_metastore.bronze.refunds;"
   ]
  },
  {
   "cell_type": "code",
   "execution_count": 0,
   "metadata": {
    "application/vnd.databricks.v1+cell": {
     "cellMetadata": {
      "byteLimit": 2048000,
      "rowLimit": 10000
     },
     "inputWidgets": {},
     "nuid": "85dc034c-f34f-48e2-bf0c-f602421965da",
     "showTitle": false,
     "tableResultSettingsMap": {},
     "title": ""
    }
   },
   "outputs": [],
   "source": [
    "create schema if not exists hive_metastore.silver"
   ]
  },
  {
   "cell_type": "code",
   "execution_count": 0,
   "metadata": {
    "application/vnd.databricks.v1+cell": {
     "cellMetadata": {
      "byteLimit": 2048000,
      "rowLimit": 10000
     },
     "inputWidgets": {},
     "nuid": "87b1e29d-8ecb-4add-9607-6d8cca17b60d",
     "showTitle": false,
     "tableResultSettingsMap": {},
     "title": ""
    }
   },
   "outputs": [],
   "source": [
    "create table if not exists hive_metastore.silver.refunds\n",
    "as\n",
    "select \n",
    "  refund_id,\n",
    "  payment_id,\n",
    "  cast(date_format(refund_timestamp, 'yyyy-MM-dd') as date) as refund_date,\n",
    "  date_format(refund_timestamp, 'HH:mm:ss') as refund_time,\n",
    "  refund_amount,\n",
    "  split(refund_reason, ':')[0] as refund_reason,\n",
    "  split_part(refund_reason, ':', 2) as refund_source\n",
    "from hive_metastore.bronze.refunds;"
   ]
  }
 ],
 "metadata": {
  "application/vnd.databricks.v1+notebook": {
   "computePreferences": null,
   "dashboards": [],
   "environmentMetadata": {
    "base_environment": "",
    "environment_version": "3"
   },
   "inputWidgetPreferences": null,
   "language": "sql",
   "notebookMetadata": {
    "pythonIndentUnit": 4
   },
   "notebookName": "12. Transform Refunds Data",
   "widgets": {}
  },
  "language_info": {
   "name": "sql"
  }
 },
 "nbformat": 4,
 "nbformat_minor": 0
}
