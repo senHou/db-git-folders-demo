{
 "cells": [
  {
   "cell_type": "code",
   "execution_count": 0,
   "metadata": {
    "application/vnd.databricks.v1+cell": {
     "cellMetadata": {
      "byteLimit": 2048000,
      "rowLimit": 10000
     },
     "inputWidgets": {},
     "nuid": "acd09a20-2f35-49cd-9d54-d574c08227ef",
     "showTitle": false,
     "tableResultSettingsMap": {},
     "title": ""
    }
   },
   "outputs": [],
   "source": [
    "select * from gizmobox2.silver2.orders_json"
   ]
  },
  {
   "cell_type": "code",
   "execution_count": 0,
   "metadata": {
    "application/vnd.databricks.v1+cell": {
     "cellMetadata": {
      "byteLimit": 2048000,
      "rowLimit": 10000
     },
     "inputWidgets": {},
     "nuid": "d8b1e55d-6eaa-4fbe-b9fa-f182c99cdc24",
     "showTitle": false,
     "tableResultSettingsMap": {},
     "title": ""
    }
   },
   "outputs": [],
   "source": [
    "select \n",
    "  json_value.order_id,\n",
    "  json_value.order_status,\n",
    "  json_value.payment_method,\n",
    "  json_value.total_amount,\n",
    "  json_value.transaction_timestamp,\n",
    "  json_value.customer_id,\n",
    "  json_value.items\n",
    "from gizmobox2.silver2.orders_json"
   ]
  },
  {
   "cell_type": "code",
   "execution_count": 0,
   "metadata": {
    "application/vnd.databricks.v1+cell": {
     "cellMetadata": {
      "byteLimit": 2048000,
      "rowLimit": 10000
     },
     "inputWidgets": {},
     "nuid": "a8cec584-16dc-400a-9485-0b5790e41828",
     "showTitle": false,
     "tableResultSettingsMap": {},
     "title": ""
    }
   },
   "outputs": [],
   "source": [
    "select \n",
    "  json_value.order_id,\n",
    "  json_value.order_status,\n",
    "  json_value.payment_method,\n",
    "  json_value.total_amount,\n",
    "  json_value.transaction_timestamp,\n",
    "  json_value.customer_id,\n",
    "  array_distinct(json_value.items)\n",
    "from gizmobox2.silver2.orders_json"
   ]
  },
  {
   "cell_type": "code",
   "execution_count": 0,
   "metadata": {
    "application/vnd.databricks.v1+cell": {
     "cellMetadata": {
      "byteLimit": 2048000,
      "rowLimit": 10000
     },
     "inputWidgets": {},
     "nuid": "2f455e6f-e322-4aa0-9d83-4fa7471b14d8",
     "showTitle": false,
     "tableResultSettingsMap": {},
     "title": ""
    }
   },
   "outputs": [],
   "source": [
    "select \n",
    "  json_value.order_id,\n",
    "  json_value.order_status,\n",
    "  json_value.payment_method,\n",
    "  json_value.total_amount,\n",
    "  json_value.transaction_timestamp,\n",
    "  json_value.customer_id,\n",
    "  explode(array_distinct(json_value.items)) as item\n",
    "from gizmobox2.silver2.orders_json"
   ]
  },
  {
   "cell_type": "code",
   "execution_count": 0,
   "metadata": {
    "application/vnd.databricks.v1+cell": {
     "cellMetadata": {
      "byteLimit": 2048000,
      "rowLimit": 10000
     },
     "inputWidgets": {},
     "nuid": "d17fb092-4d4d-4a85-aac9-5cb8f375954d",
     "showTitle": false,
     "tableResultSettingsMap": {},
     "title": ""
    }
   },
   "outputs": [],
   "source": [
    "create or replace temporary view tv_orders_exploded\n",
    "as\n",
    "select \n",
    "  json_value.order_id,\n",
    "  json_value.order_status,\n",
    "  json_value.payment_method,\n",
    "  json_value.total_amount,\n",
    "  json_value.transaction_timestamp,\n",
    "  json_value.customer_id,\n",
    "  explode(array_distinct(json_value.items)) as item\n",
    "from gizmobox2.silver2.orders_json"
   ]
  },
  {
   "cell_type": "code",
   "execution_count": 0,
   "metadata": {
    "application/vnd.databricks.v1+cell": {
     "cellMetadata": {
      "byteLimit": 2048000,
      "rowLimit": 10000
     },
     "inputWidgets": {},
     "nuid": "8a6dfff5-8913-4bb3-a706-925cf7fc3be1",
     "showTitle": false,
     "tableResultSettingsMap": {
      "0": {
       "dataGridStateBlob": "{\"version\":1,\"tableState\":{\"columnPinning\":{\"left\":[\"#row_number#\"],\"right\":[]},\"columnSizing\":{},\"columnVisibility\":{}},\"settings\":{\"columns\":{}},\"syncTimestamp\":1756250484231}",
       "filterBlob": null,
       "queryPlanFiltersBlob": null,
       "tableResultIndex": 0
      }
     },
     "title": ""
    }
   },
   "outputs": [],
   "source": [
    "select \n",
    "  order_id,\n",
    "  order_status,\n",
    "  payment_method,\n",
    "  total_amount,\n",
    "  transaction_timestamp,\n",
    "  customer_id,\n",
    "  item.item_id,\n",
    "  item.name,\n",
    "  item.price,\n",
    "  item.quantity,\n",
    "  item.category,\n",
    "  item.details.brand,\n",
    "  item.details.color\n",
    "from tv_orders_exploded"
   ]
  },
  {
   "cell_type": "code",
   "execution_count": 0,
   "metadata": {
    "application/vnd.databricks.v1+cell": {
     "cellMetadata": {
      "byteLimit": 2048000,
      "rowLimit": 10000
     },
     "inputWidgets": {},
     "nuid": "3f24ca3a-e26b-4014-b542-e10d0cdbde41",
     "showTitle": false,
     "tableResultSettingsMap": {},
     "title": ""
    }
   },
   "outputs": [],
   "source": [
    "create table if not exists gizmobox2.silver2.orders\n",
    "as \n",
    "select \n",
    "  order_id,\n",
    "  order_status,\n",
    "  payment_method,\n",
    "  total_amount,\n",
    "  transaction_timestamp,\n",
    "  customer_id,\n",
    "  item.item_id,\n",
    "  item.name,\n",
    "  item.price,\n",
    "  item.quantity,\n",
    "  item.category,\n",
    "  item.details.brand,\n",
    "  item.details.color\n",
    "from tv_orders_exploded"
   ]
  },
  {
   "cell_type": "code",
   "execution_count": 0,
   "metadata": {
    "application/vnd.databricks.v1+cell": {
     "cellMetadata": {
      "byteLimit": 2048000,
      "rowLimit": 10000
     },
     "inputWidgets": {},
     "nuid": "dd07a06a-17d8-4869-b0df-5a5df9013a79",
     "showTitle": false,
     "tableResultSettingsMap": {},
     "title": ""
    }
   },
   "outputs": [],
   "source": [
    "select * from gizmobox2.silver2.orders"
   ]
  }
 ],
 "metadata": {
  "application/vnd.databricks.v1+notebook": {
   "computePreferences": null,
   "dashboards": [],
   "environmentMetadata": {
    "base_environment": "",
    "environment_version": "3"
   },
   "inputWidgetPreferences": null,
   "language": "sql",
   "notebookMetadata": {
    "pythonIndentUnit": 4
   },
   "notebookName": "17. Transform Orders Data - Explode Arrays",
   "widgets": {}
  },
  "language_info": {
   "name": "sql"
  }
 },
 "nbformat": 4,
 "nbformat_minor": 0
}
