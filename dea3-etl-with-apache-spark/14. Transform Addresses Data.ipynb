{
 "cells": [
  {
   "cell_type": "code",
   "execution_count": 0,
   "metadata": {
    "application/vnd.databricks.v1+cell": {
     "cellMetadata": {
      "byteLimit": 2048000,
      "rowLimit": 10000
     },
     "inputWidgets": {},
     "nuid": "ea7452fd-2a1c-4d65-98de-c815b9a0f666",
     "showTitle": false,
     "tableResultSettingsMap": {
      "0": {
       "dataGridStateBlob": "{\"version\":1,\"tableState\":{\"columnPinning\":{\"left\":[\"#row_number#\"],\"right\":[]},\"columnSizing\":{},\"columnVisibility\":{}},\"settings\":{\"columns\":{}},\"syncTimestamp\":1756089454078}",
       "filterBlob": null,
       "queryPlanFiltersBlob": null,
       "tableResultIndex": 0
      }
     },
     "title": ""
    }
   },
   "outputs": [],
   "source": [
    "select \n",
    "  customer_id,\n",
    "  address_type,\n",
    "  address_line_1,\n",
    "  city,\n",
    "  state,\n",
    "  postcode\n",
    "from gizmobox.bronze.v_addresses;"
   ]
  },
  {
   "cell_type": "code",
   "execution_count": 0,
   "metadata": {
    "application/vnd.databricks.v1+cell": {
     "cellMetadata": {
      "byteLimit": 2048000,
      "rowLimit": 10000
     },
     "inputWidgets": {},
     "nuid": "36a08ff3-cf75-4d2e-a8ce-ca1556beadfd",
     "showTitle": false,
     "tableResultSettingsMap": {},
     "title": ""
    }
   },
   "outputs": [],
   "source": [
    "create temporary view v_address as \n",
    "select \n",
    "  customer_id,\n",
    "  address_type,\n",
    "  address_line_1,\n",
    "  city,\n",
    "  state,\n",
    "  postcode\n",
    "from gizmobox.bronze.v_addresses;"
   ]
  },
  {
   "cell_type": "code",
   "execution_count": 0,
   "metadata": {
    "application/vnd.databricks.v1+cell": {
     "cellMetadata": {
      "byteLimit": 2048000,
      "rowLimit": 10000
     },
     "inputWidgets": {},
     "nuid": "4ffc8aa1-e77c-450b-8659-e8819f054a61",
     "showTitle": false,
     "tableResultSettingsMap": {},
     "title": ""
    }
   },
   "outputs": [],
   "source": [
    "select *\n",
    "from v_address\n",
    "pivot(\n",
    "    max(address_line_1) as address_line_1,\n",
    "    max(city) as city,\n",
    "    max(state) as state,\n",
    "    max(postcode) as postcode\n",
    "    for address_type in ('shipping', 'billing')\n",
    ");\n"
   ]
  },
  {
   "cell_type": "code",
   "execution_count": 0,
   "metadata": {
    "application/vnd.databricks.v1+cell": {
     "cellMetadata": {
      "byteLimit": 2048000,
      "rowLimit": 10000
     },
     "inputWidgets": {},
     "nuid": "86beb492-ff46-4614-a0f7-93a8ac411525",
     "showTitle": false,
     "tableResultSettingsMap": {},
     "title": ""
    }
   },
   "outputs": [],
   "source": [
    "create table if not exists gizmobox2.silver2.addresses\n",
    "as\n",
    "select *\n",
    "from v_address\n",
    "pivot(\n",
    "    max(address_line_1) as address_line_1,\n",
    "    max(city) as city,\n",
    "    max(state) as state,\n",
    "    max(postcode) as postcode\n",
    "    for address_type in ('shipping', 'billing')\n",
    ");\n"
   ]
  }
 ],
 "metadata": {
  "application/vnd.databricks.v1+notebook": {
   "computePreferences": null,
   "dashboards": [],
   "environmentMetadata": {
    "base_environment": "",
    "environment_version": "3"
   },
   "inputWidgetPreferences": null,
   "language": "sql",
   "notebookMetadata": {
    "pythonIndentUnit": 4
   },
   "notebookName": "14. Transform Addresses Data",
   "widgets": {}
  },
  "language_info": {
   "name": "sql"
  }
 },
 "nbformat": 4,
 "nbformat_minor": 0
}
