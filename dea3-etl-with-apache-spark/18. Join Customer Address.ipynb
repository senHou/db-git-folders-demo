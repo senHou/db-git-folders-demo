{
 "cells": [
  {
   "cell_type": "code",
   "execution_count": 0,
   "metadata": {
    "application/vnd.databricks.v1+cell": {
     "cellMetadata": {
      "byteLimit": 2048000,
      "rowLimit": 10000
     },
     "inputWidgets": {},
     "nuid": "1078b552-d136-4980-b64d-65d1eaf97c55",
     "showTitle": false,
     "tableResultSettingsMap": {},
     "title": ""
    }
   },
   "outputs": [],
   "source": [
    "select *from gizmobox2.silver2.customers;"
   ]
  },
  {
   "cell_type": "code",
   "execution_count": 0,
   "metadata": {
    "application/vnd.databricks.v1+cell": {
     "cellMetadata": {
      "byteLimit": 2048000,
      "rowLimit": 10000
     },
     "inputWidgets": {},
     "nuid": "e2cbe0b1-636c-4b63-a7a1-878020415fc7",
     "showTitle": false,
     "tableResultSettingsMap": {},
     "title": ""
    }
   },
   "outputs": [],
   "source": [
    "create table if not exists gizmobox2.gold2.customer_address\n",
    "as\n",
    "select \n",
    "  c.customer_id,\n",
    "  c.customer_name,\n",
    "  c.email,\n",
    "  c.date_of_birth,\n",
    "  c.member_since,\n",
    "  c.telephone,\n",
    "  a.shipping_address_line_1,\n",
    "  a.shipping_city,\n",
    "  a.shipping_state,\n",
    "  a.shipping_postcode,\n",
    "  a.billing_address_line_1,\n",
    "  a.billing_city,\n",
    "  a.billing_state,\n",
    "  a.billing_postcode\n",
    "from gizmobox2.silver2.customers c\n",
    "join gizmobox2.silver2.addresses a on c.customer_id = a.customer_id"
   ]
  },
  {
   "cell_type": "code",
   "execution_count": 0,
   "metadata": {
    "application/vnd.databricks.v1+cell": {
     "cellMetadata": {
      "byteLimit": 2048000,
      "rowLimit": 10000
     },
     "inputWidgets": {},
     "nuid": "5450c2c7-fa68-4e1e-a49d-809a96089512",
     "showTitle": false,
     "tableResultSettingsMap": {},
     "title": ""
    }
   },
   "outputs": [],
   "source": [
    "select * from gizmobox2.gold2.customer_address;"
   ]
  }
 ],
 "metadata": {
  "application/vnd.databricks.v1+notebook": {
   "computePreferences": null,
   "dashboards": [],
   "environmentMetadata": {
    "base_environment": "",
    "environment_version": "3"
   },
   "inputWidgetPreferences": null,
   "language": "sql",
   "notebookMetadata": {
    "pythonIndentUnit": 4
   },
   "notebookName": "18. Join Customer Address",
   "widgets": {}
  },
  "language_info": {
   "name": "sql"
  }
 },
 "nbformat": 4,
 "nbformat_minor": 0
}
