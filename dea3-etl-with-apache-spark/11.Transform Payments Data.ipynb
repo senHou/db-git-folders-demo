{
 "cells": [
  {
   "cell_type": "code",
   "execution_count": 0,
   "metadata": {
    "application/vnd.databricks.v1+cell": {
     "cellMetadata": {
      "byteLimit": 2048000,
      "rowLimit": 10000
     },
     "inputWidgets": {},
     "nuid": "9d8b8e8d-13e3-4d9d-86aa-326b3c526999",
     "showTitle": false,
     "tableResultSettingsMap": {},
     "title": ""
    }
   },
   "outputs": [],
   "source": [
    "select * from gizmobox.bronze.payments;"
   ]
  },
  {
   "cell_type": "code",
   "execution_count": 0,
   "metadata": {
    "application/vnd.databricks.v1+cell": {
     "cellMetadata": {
      "byteLimit": 2048000,
      "rowLimit": 10000
     },
     "inputWidgets": {},
     "nuid": "6ece112b-d56a-4bd2-9c7b-150917693909",
     "showTitle": false,
     "tableResultSettingsMap": {
      "0": {
       "dataGridStateBlob": "{\"version\":1,\"tableState\":{\"columnPinning\":{\"left\":[\"#row_number#\"],\"right\":[]},\"columnSizing\":{},\"columnVisibility\":{}},\"settings\":{\"columns\":{}},\"syncTimestamp\":1756085361477}",
       "filterBlob": null,
       "queryPlanFiltersBlob": null,
       "tableResultIndex": 0
      }
     },
     "title": ""
    }
   },
   "outputs": [],
   "source": [
    "select \n",
    "  payment_id,\n",
    "  order_id,\n",
    "  cast(date_format(payment_timestamp, 'yyyy-MM-dd') as date) as payment_date,\n",
    "  date_format(payment_timestamp, 'HH:mm:ss') as payment_time,\n",
    "  payment_status,\n",
    "  payment_method\n",
    "from gizmobox.bronze.payments;"
   ]
  },
  {
   "cell_type": "code",
   "execution_count": 0,
   "metadata": {
    "application/vnd.databricks.v1+cell": {
     "cellMetadata": {
      "byteLimit": 2048000,
      "rowLimit": 10000
     },
     "inputWidgets": {},
     "nuid": "76a3adf6-5ac0-45e5-9f40-a80f2922db74",
     "showTitle": false,
     "tableResultSettingsMap": {},
     "title": ""
    }
   },
   "outputs": [],
   "source": [
    "create or replace function get_payment_status(payment_status int)\n",
    "returns string\n",
    "return\n",
    "case payment_status \n",
    "       when 1 then 'Success'\n",
    "       when 2 then 'Pending'\n",
    "       when 3 then 'Cancelled' \n",
    "       when 4 then 'Failed'\n",
    "       else '' end"
   ]
  },
  {
   "cell_type": "code",
   "execution_count": 0,
   "metadata": {
    "application/vnd.databricks.v1+cell": {
     "cellMetadata": {
      "byteLimit": 2048000,
      "rowLimit": 10000
     },
     "inputWidgets": {},
     "nuid": "061301fc-e55c-4cbb-b2e3-21bce4a68ae7",
     "showTitle": false,
     "tableResultSettingsMap": {},
     "title": ""
    }
   },
   "outputs": [],
   "source": [
    "select \n",
    "  payment_id,\n",
    "  order_id,\n",
    "  cast(date_format(payment_timestamp, 'yyyy-MM-dd') as date) as payment_date,\n",
    "  date_format(payment_timestamp, 'HH:mm:ss') as payment_time,\n",
    "  get_payment_status(payment_status) as payment_status,\n",
    "  payment_method\n",
    "from gizmobox.bronze.payments;"
   ]
  },
  {
   "cell_type": "code",
   "execution_count": 0,
   "metadata": {
    "application/vnd.databricks.v1+cell": {
     "cellMetadata": {
      "byteLimit": 2048000,
      "rowLimit": 10000
     },
     "inputWidgets": {},
     "nuid": "de5ea8af-383f-4329-8598-cf850ca6086a",
     "showTitle": false,
     "tableResultSettingsMap": {},
     "title": ""
    }
   },
   "outputs": [],
   "source": [
    "create table if not exists gizmobox2.silver2.payments \n",
    "as \n",
    "select \n",
    "  payment_id,\n",
    "  order_id,\n",
    "  cast(date_format(payment_timestamp, 'yyyy-MM-dd') as date) as payment_date,\n",
    "  date_format(payment_timestamp, 'HH:mm:ss') as payment_time,\n",
    "  case payment_status \n",
    "       when 1 then 'Success'\n",
    "       when 2 then 'Pending'\n",
    "       when 3 then 'Cancelled' \n",
    "       when 4 then 'Failed'\n",
    "       else '' end as payment_status,\n",
    "  payment_method\n",
    "from gizmobox.bronze.payments;"
   ]
  },
  {
   "cell_type": "code",
   "execution_count": 0,
   "metadata": {
    "application/vnd.databricks.v1+cell": {
     "cellMetadata": {
      "byteLimit": 2048000,
      "rowLimit": 10000
     },
     "inputWidgets": {},
     "nuid": "04e7f5a7-5375-4a7d-9f5b-f690626fb3b6",
     "showTitle": false,
     "tableResultSettingsMap": {},
     "title": ""
    }
   },
   "outputs": [],
   "source": [
    "select * from gizmobox2.silver2.payments;"
   ]
  }
 ],
 "metadata": {
  "application/vnd.databricks.v1+notebook": {
   "computePreferences": null,
   "dashboards": [],
   "environmentMetadata": {
    "base_environment": "",
    "environment_version": "3"
   },
   "inputWidgetPreferences": null,
   "language": "sql",
   "notebookMetadata": {
    "pythonIndentUnit": 4
   },
   "notebookName": "11.Transform Payments Data",
   "widgets": {}
  },
  "language_info": {
   "name": "sql"
  }
 },
 "nbformat": 4,
 "nbformat_minor": 0
}
